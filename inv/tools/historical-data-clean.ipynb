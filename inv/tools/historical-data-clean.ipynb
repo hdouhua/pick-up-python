{
 "cells": [
  {
   "cell_type": "code",
   "execution_count": null,
   "metadata": {},
   "outputs": [],
   "source": [
    "import datetime\n",
    "import numpy as np\n",
    "import pandas as pd\n",
    "import matplotlib.pyplot as plt"
   ]
  },
  {
   "cell_type": "code",
   "execution_count": null,
   "metadata": {},
   "outputs": [],
   "source": [
    "df6 = pd.read_csv('./ds/value_06.csv').set_index('datetime')\n",
    "df5 = pd.read_csv('./ds/value_05.csv').set_index('datetime')\n",
    "df4 = pd.read_csv('./ds/value_04.csv').set_index('datetime')\n",
    "df3 = pd.read_csv('./ds/value_03.csv').set_index('datetime')\n",
    "df2 = pd.read_csv('./ds/value_02.csv').set_index('datetime')\n",
    "df1 = pd.read_csv('./ds/value_01.csv').set_index('datetime')\n",
    "\n",
    "df = pd.concat([df1, df2, df3, df4, df5, df6], axis=0)"
   ]
  },
  {
   "cell_type": "code",
   "execution_count": null,
   "metadata": {},
   "outputs": [],
   "source": [
    "# 删除那些行 hs300 值是 NA 的\n",
    "df.drop(df[df.hs300.isna()].index, inplace=True)"
   ]
  },
  {
   "cell_type": "code",
   "execution_count": null,
   "metadata": {},
   "outputs": [],
   "source": [
    "df.sort_index(axis=0, ascending=True, inplace=True)"
   ]
  },
  {
   "cell_type": "code",
   "execution_count": null,
   "metadata": {},
   "outputs": [],
   "source": [
    "df.to_csv('./output.csv')"
   ]
  },
  {
   "cell_type": "markdown",
   "metadata": {},
   "source": []
  },
  {
   "cell_type": "code",
   "execution_count": null,
   "metadata": {},
   "outputs": [],
   "source": [
    "# %run ../strategy/shared/tools.py\n",
    "\n",
    "import sys\n",
    "sys.path.append('../strategy/')\n",
    "# print(sys.path)\n",
    "\n",
    "from shared.tools import datestr2dtdate"
   ]
  },
  {
   "cell_type": "code",
   "execution_count": null,
   "metadata": {},
   "outputs": [],
   "source": [
    "dates = pd.read_csv('../res/trading_date.csv')['trade_date'].to_list()\n",
    "dates = [datestr2dtdate(e, '%Y/%m/%d') for e in dates]\n",
    "\n",
    "df = pd.DataFrame(data=dates, columns=['trade_date'])\n",
    "df"
   ]
  },
  {
   "cell_type": "code",
   "execution_count": null,
   "metadata": {},
   "outputs": [],
   "source": [
    "temp = pd.read_csv('../res/main-indices-data.csv')['datetime']\n",
    "new_dates = pd.DataFrame(data={'trade_date': [datestr2dtdate(e) for e in temp]})\n",
    "s = new_dates['trade_date'] > dates[-1]\n",
    "df2 = new_dates[s]\n",
    "df2"
   ]
  },
  {
   "cell_type": "code",
   "execution_count": null,
   "metadata": {},
   "outputs": [],
   "source": [
    "temp = pd.concat([df, df2], ignore_index=True)\n",
    "temp\n",
    "temp.to_csv('../res/new_trading_date.csv')"
   ]
  }
 ],
 "metadata": {
  "kernelspec": {
   "display_name": "finlab",
   "language": "python",
   "name": "python3"
  },
  "language_info": {
   "codemirror_mode": {
    "name": "ipython",
    "version": 3
   },
   "file_extension": ".py",
   "mimetype": "text/x-python",
   "name": "python",
   "nbconvert_exporter": "python",
   "pygments_lexer": "ipython3",
   "version": "3.9.12 (main, Jun  1 2022, 06:36:29) \n[Clang 12.0.0 ]"
  },
  "orig_nbformat": 4,
  "vscode": {
   "interpreter": {
    "hash": "b9483049b3e9c670bddef98344a0490f9e244cf0a26cd571bf6775c67c05d5cd"
   }
  }
 },
 "nbformat": 4,
 "nbformat_minor": 2
}
