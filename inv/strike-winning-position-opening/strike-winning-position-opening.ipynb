{
 "cells": [
  {
   "cell_type": "code",
   "execution_count": 1,
   "metadata": {},
   "outputs": [],
   "source": [
    "import sympy as sp"
   ]
  },
  {
   "cell_type": "code",
   "execution_count": 2,
   "metadata": {},
   "outputs": [],
   "source": [
    "def solve_inequality(t, a):\n",
    "    # 构建不等式\n",
    "\n",
    "    n = sp.symbols('n')\n",
    "    b = 1 - a\n",
    "\n",
    "    # 定义分子和分母\n",
    "    def inequality_func(n):\n",
    "        numerator = (n**t * b**t - 1) * (n - 1)\n",
    "        denominator = (n * b - 1) * b**(t - 1) * (n**t - 1)\n",
    "        return numerator / denominator\n",
    "\n",
    "    # 使用数值方法遍历整数范围\n",
    "    integer_solutions = []\n",
    "    for n in range(1, 10):\n",
    "        try:\n",
    "            value = inequality_func(n)\n",
    "            if value <= 1.03:\n",
    "                integer_solutions.append(n)\n",
    "        except ZeroDivisionError:\n",
    "            continue\n",
    "        except:\n",
    "            continue\n",
    "\n",
    "    return integer_solutions\n"
   ]
  },
  {
   "cell_type": "code",
   "execution_count": 3,
   "metadata": {},
   "outputs": [
    {
     "data": {
      "text/plain": [
       "[3, 4, 5, 6, 7, 8, 9]"
      ]
     },
     "execution_count": 3,
     "metadata": {},
     "output_type": "execute_result"
    }
   ],
   "source": [
    "t = 4\n",
    "a = 0.05\n",
    "result = solve_inequality(t, a)\n",
    "result"
   ]
  }
 ],
 "metadata": {
  "kernelspec": {
   "display_name": "finlab",
   "language": "python",
   "name": "finlab"
  },
  "language_info": {
   "codemirror_mode": {
    "name": "ipython",
    "version": 3
   },
   "file_extension": ".py",
   "mimetype": "text/x-python",
   "name": "python",
   "nbconvert_exporter": "python",
   "pygments_lexer": "ipython3",
   "version": "3.9.12"
  }
 },
 "nbformat": 4,
 "nbformat_minor": 2
}
