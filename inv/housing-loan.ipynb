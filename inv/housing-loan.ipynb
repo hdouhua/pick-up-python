{
 "cells": [
  {
   "attachments": {},
   "cell_type": "markdown",
   "metadata": {},
   "source": [
    "# 房贷\n",
    "\n",
    "影响房贷的因素有哪些？\n",
    "\n",
    "- 房产总价\n",
    "- 房贷利率\n",
    "- 首付金额\n",
    "- 还款年限\n",
    "- 房产升值速度\n",
    "- 工资收入\n",
    "- 理财收入\n",
    "- 家庭生活支出\n",
    "\n",
    "是否应该多付首付？是否应该尽可能贷款更多年限？\n",
    "\n",
    "先说结论：\n",
    "**如果稳定理财利率能够高于房贷贷款利率，那么首付少付、还款年限长合适；反之，如果稳定理财利率低于房贷贷款利率，那么首付多付、还款年限短合适。**\n"
   ]
  },
  {
   "cell_type": "code",
   "execution_count": 1,
   "metadata": {},
   "outputs": [],
   "source": [
    "def calc_housing_loan(property_price, down_payment, mortgage_yearly_rate, mortgage_years, n_years):\n",
    "    \"\"\"\n",
    "    计算 n_years 年后，(每月还款, 支付总额, 支付的利息总额, 剩余本金)\n",
    "    \"\"\"\n",
    "    n_years = mortgage_years if n_years is None else n_years\n",
    "    mortgage_monthly_rate = mortgage_yearly_rate / 12\n",
    "    mortgage = property_price - down_payment\n",
    "\n",
    "    # https://www.baike.com/wikiid/7153236291726755655?view_id=505dtqqrmfo00\n",
    "    # 等额本息方式，每期应还款额 = 借款本金 × 月利率 × ((1＋月利率)的还款期数次方) / ((1＋月利率) 的 (还款期数 - 1) 次方)\n",
    "    monthly_repayment = float(mortgage) * mortgage_monthly_rate * ((1 + mortgage_monthly_rate) ** (12 * mortgage_years)) / \\\n",
    "        ((1 + mortgage_monthly_rate) ** (12 * mortgage_years) - 1)\n",
    "\n",
    "    # 计算 支付总额、支付的利息总额 和 剩余本金\n",
    "    paid_period = n_years if n_years <= mortgage_years else mortgage_years\n",
    "    paid_interest = 0\n",
    "    remaining_principal = mortgage\n",
    "    for x in range(0, paid_period * 12):\n",
    "        current_interest = remaining_principal * mortgage_monthly_rate\n",
    "        current_principal = monthly_repayment - current_interest\n",
    "        paid_interest += current_interest\n",
    "        remaining_principal -= current_principal\n",
    "\n",
    "    total_paid = down_payment + monthly_repayment * paid_period * 12\n",
    "\n",
    "    return (monthly_repayment, total_paid, paid_interest, remaining_principal)\n",
    "\n",
    "\n",
    "def calc_cash_wealth(current_wealth, down_payment, monthly_repayment, mortgage_years, monthly_disposable_income,\n",
    "                     return_on_investment, n_years):\n",
    "    \"\"\"\n",
    "    计算 n_years 年后，现金价值\n",
    "    \"\"\"\n",
    "    monthly_return_rate = return_on_investment / 12\n",
    "    cash_wealth = current_wealth - down_payment\n",
    "    for this_month in range(0, 12 * n_years):\n",
    "        cash_wealth = cash_wealth * (1 + monthly_return_rate) + monthly_disposable_income\n",
    "        if this_month <= mortgage_years * 12:\n",
    "            cash_wealth = cash_wealth - monthly_repayment\n",
    "\n",
    "    return cash_wealth\n",
    "\n",
    "\n",
    "def calc_property_wealth(current_price, property_yearly_return, n_years):\n",
    "    \"\"\"\n",
    "    计算 n_years 年后，房产价值\n",
    "    \"\"\"\n",
    "    return current_price * ((1 + property_yearly_return)**n_years)\n"
   ]
  },
  {
   "attachments": {},
   "cell_type": "markdown",
   "metadata": {},
   "source": [
    "## 示例\n",
    "\n",
    "假设小 Y 是一名在北京工作了五年的程序员，他看上了一套郊区小两居，价值 350 万元。小 Y 有 200 万可以动用的购房款。\n",
    "\n",
    "问题：他是把 200 万全部用作首付，还是只交 35% 的首付款（122.5 万）？\n",
    "\n",
    "假设：\n",
    "\n",
    "- 房产的升值幅度：每年 3%\n",
    "- 房贷利率：4.65%\n",
    "- 工资税后收入：每月 3 万元\n",
    "- 理财收入：按永久组合的收益率来算，是年化 6.8%\n",
    "- 家庭生活支出：每月 5000 元"
   ]
  },
  {
   "attachments": {},
   "cell_type": "markdown",
   "metadata": {},
   "source": [
    "设置基础参数"
   ]
  },
  {
   "cell_type": "code",
   "execution_count": 2,
   "metadata": {},
   "outputs": [],
   "source": [
    "# 单位：万元\n",
    "current_wealth = 200\n",
    "monthly_income = 3\n",
    "family_expense = 0.5    # exclude repayment\n",
    "monthly_disposable_income = monthly_income - family_expense\n",
    "\n",
    "yearly_return_on_investment = 0.06\n",
    "property_price = 350\n",
    "property_yearly_return_rate = 0.03\n",
    "mortgage_yearly_rate = 0.0465\n",
    "\n",
    "wealth_years = 20\n"
   ]
  },
  {
   "attachments": {},
   "cell_type": "markdown",
   "metadata": {},
   "source": [
    "按揭贷款 30 年，首付 200 万"
   ]
  },
  {
   "cell_type": "code",
   "execution_count": 3,
   "metadata": {},
   "outputs": [
    {
     "name": "stdout",
     "output_type": "stream",
     "text": [
      "Mortgage Features:\n",
      "\tMortgage: 30 Years, Down Payment: 200, Monthly Repayment: 0.7735, Total Payment: 478.44\n",
      "20 Years later:\n",
      "\tTotal Paid: 385.63, Paid Interest: 109.74, Remaining Principal: 74.11\n",
      "\tYour Cash wealth:\t 797.73\n",
      "\tYour Property wealth:\t 632.14\n"
     ]
    }
   ],
   "source": [
    "mortgage_years = 30\n",
    "down_payment = 200\n",
    "\n",
    "monthly_repayment, total_paid, interest_paid, remaining_principal = \\\n",
    "    calc_housing_loan(property_price, down_payment, mortgage_yearly_rate, mortgage_years, wealth_years)\n",
    "\n",
    "cash_wealth = calc_cash_wealth(current_wealth, down_payment, monthly_repayment, mortgage_years,\n",
    "                               monthly_disposable_income, yearly_return_on_investment, wealth_years)\n",
    "\n",
    "property_wealth = calc_property_wealth(property_price, property_yearly_return_rate, wealth_years)\n",
    "\n",
    "print(\"Mortgage Features:\")\n",
    "print(\"\\tMortgage: %s Years, Down Payment: %s, Monthly Repayment: %.4f, Total Payment: %.2f\" %\n",
    "      (mortgage_years, down_payment, monthly_repayment, down_payment + mortgage_years * 12 * monthly_repayment))\n",
    "print(\"%s Years later:\" % wealth_years)\n",
    "print(\"\\tTotal Paid: %.2f, Paid Interest: %.2f, Remaining Principal: %.2f\" %\n",
    "      (total_paid, interest_paid, remaining_principal))\n",
    "print(\"\\tYour Cash wealth:\\t\", round(cash_wealth, 2))\n",
    "print(\"\\tYour Property wealth:\\t\", round(property_wealth, 2))\n"
   ]
  },
  {
   "attachments": {},
   "cell_type": "markdown",
   "metadata": {},
   "source": [
    "按揭贷款 30 年，首付 150 万"
   ]
  },
  {
   "cell_type": "code",
   "execution_count": 4,
   "metadata": {},
   "outputs": [
    {
     "name": "stdout",
     "output_type": "stream",
     "text": [
      "Mortgage Features:\n",
      "\tMortgage: 30 Years, Down Payment: 150, Monthly Repayment: 1.0313, Total Payment: 521.26\n",
      "20 Years later:\n",
      "\tTotal Paid: 397.51, Paid Interest: 146.32, Remaining Principal: 98.82\n",
      "\tYour Cash wealth:\t 844.12\n",
      "\tYour Property wealth:\t 632.14\n"
     ]
    }
   ],
   "source": [
    "mortgage_years = 30\n",
    "down_payment = 150\n",
    "\n",
    "monthly_repayment, total_paid, interest_paid, remaining_principal = \\\n",
    "    calc_housing_loan(property_price, down_payment, mortgage_yearly_rate, mortgage_years, wealth_years)\n",
    "\n",
    "cash_wealth = calc_cash_wealth(current_wealth, down_payment, monthly_repayment, mortgage_years,\n",
    "                               monthly_disposable_income, yearly_return_on_investment, wealth_years)\n",
    "\n",
    "property_wealth = calc_property_wealth(property_price, property_yearly_return_rate, wealth_years)\n",
    "\n",
    "print(\"Mortgage Features:\")\n",
    "print(\"\\tMortgage: %s Years, Down Payment: %s, Monthly Repayment: %.4f, Total Payment: %.2f\" %\n",
    "      (mortgage_years, down_payment, monthly_repayment, down_payment + mortgage_years * 12 * monthly_repayment))\n",
    "print(\"%s Years later:\" % wealth_years)\n",
    "print(\"\\tTotal Paid: %.2f, Paid Interest: %.2f, Remaining Principal: %.2f\" %\n",
    "      (total_paid, interest_paid, remaining_principal))\n",
    "print(\"\\tYour Cash wealth:\\t\", round(cash_wealth, 2))\n",
    "print(\"\\tYour Property wealth:\\t\", round(property_wealth, 2))"
   ]
  },
  {
   "attachments": {},
   "cell_type": "markdown",
   "metadata": {},
   "source": [
    "按揭贷款 20 年，首付 200 万"
   ]
  },
  {
   "cell_type": "code",
   "execution_count": 5,
   "metadata": {},
   "outputs": [
    {
     "name": "stdout",
     "output_type": "stream",
     "text": [
      "Mortgage Features:\n",
      "\tMortgage: 20 Years, Down Payment: 200, Monthly Repayment: 0.9612, Total Payment: 430.68\n",
      "20 Years later:\n",
      "\tTotal Paid: 430.68, Paid Interest: 80.68, Remaining Principal: 0.00\n",
      "\tYour Cash wealth:\t 711.01\n",
      "\tYour Property wealth:\t 632.14\n"
     ]
    }
   ],
   "source": [
    "mortgage_years = 20\n",
    "down_payment = 200\n",
    "\n",
    "monthly_repayment, total_paid, interest_paid, remaining_principal = \\\n",
    "    calc_housing_loan(property_price, down_payment, mortgage_yearly_rate, mortgage_years, wealth_years)\n",
    "\n",
    "cash_wealth = calc_cash_wealth(current_wealth, down_payment, monthly_repayment, mortgage_years,\n",
    "                               monthly_disposable_income, yearly_return_on_investment, wealth_years)\n",
    "\n",
    "property_wealth = calc_property_wealth(property_price, property_yearly_return_rate, wealth_years)\n",
    "\n",
    "print(\"Mortgage Features:\")\n",
    "print(\"\\tMortgage: %s Years, Down Payment: %s, Monthly Repayment: %.4f, Total Payment: %.2f\" %\n",
    "      (mortgage_years, down_payment, monthly_repayment, down_payment + mortgage_years * 12 * monthly_repayment))\n",
    "print(\"%s Years later:\" % wealth_years)\n",
    "print(\"\\tTotal Paid: %.2f, Paid Interest: %.2f, Remaining Principal: %.2f\" %\n",
    "      (total_paid, interest_paid, remaining_principal))\n",
    "print(\"\\tYour Cash wealth:\\t\", round(cash_wealth, 2))\n",
    "print(\"\\tYour Property wealth:\\t\", round(property_wealth, 2))"
   ]
  },
  {
   "attachments": {},
   "cell_type": "markdown",
   "metadata": {},
   "source": [
    "按揭贷款 20 年，首付 150 万"
   ]
  },
  {
   "cell_type": "code",
   "execution_count": 6,
   "metadata": {},
   "outputs": [
    {
     "name": "stdout",
     "output_type": "stream",
     "text": [
      "Mortgage Features:\n",
      "\tMortgage: 20 Years, Down Payment: 150, Monthly Repayment: 1.2815, Total Payment: 457.57\n",
      "20 Years later:\n",
      "\tTotal Paid: 457.57, Paid Interest: 107.57, Remaining Principal: 0.00\n",
      "\tYour Cash wealth:\t 728.48\n",
      "\tYour Property wealth:\t 632.14\n"
     ]
    }
   ],
   "source": [
    "mortgage_years = 20\n",
    "down_payment = 150\n",
    "\n",
    "monthly_repayment, total_paid, interest_paid, remaining_principal = \\\n",
    "    calc_housing_loan(property_price, down_payment, mortgage_yearly_rate, mortgage_years, wealth_years)\n",
    "\n",
    "cash_wealth = calc_cash_wealth(current_wealth, down_payment, monthly_repayment, mortgage_years,\n",
    "                               monthly_disposable_income, yearly_return_on_investment, wealth_years)\n",
    "\n",
    "property_wealth = calc_property_wealth(property_price, property_yearly_return_rate, wealth_years)\n",
    "\n",
    "print(\"Mortgage Features:\")\n",
    "print(\"\\tMortgage: %s Years, Down Payment: %s, Monthly Repayment: %.4f, Total Payment: %.2f\" %\n",
    "      (mortgage_years, down_payment, monthly_repayment, down_payment + mortgage_years * 12 * monthly_repayment))\n",
    "print(\"%s Years later:\" % wealth_years)\n",
    "print(\"\\tTotal Paid: %.2f, Paid Interest: %.2f, Remaining Principal: %.2f\" %\n",
    "      (total_paid, interest_paid, remaining_principal))\n",
    "print(\"\\tYour Cash wealth:\\t\", round(cash_wealth, 2))\n",
    "print(\"\\tYour Property wealth:\\t\", round(property_wealth, 2))"
   ]
  },
  {
   "attachments": {},
   "cell_type": "markdown",
   "metadata": {},
   "source": [
    "## 个人决策\n",
    "—— 是否卖房 ？"
   ]
  },
  {
   "cell_type": "code",
   "execution_count": 7,
   "metadata": {},
   "outputs": [],
   "source": [
    "# 单位：万元\n",
    "current_wealth = 300\n",
    "monthly_income = 0\n",
    "\n",
    "yearly_return_on_investment = 0.07\n",
    "property_price = 37\n",
    "property_yearly_return_rate = 0.03\n",
    "mortgage_yearly_rate = 0.0416"
   ]
  },
  {
   "attachments": {},
   "cell_type": "markdown",
   "metadata": {},
   "source": [
    "什么都不做"
   ]
  },
  {
   "cell_type": "code",
   "execution_count": 8,
   "metadata": {},
   "outputs": [
    {
     "name": "stdout",
     "output_type": "stream",
     "text": [
      "Mortgage Features:\n",
      "\tMortgage: 20 Years, Down Payment: 10, Monthly Repayment: 0.1659, Total Payment: 49.82\n",
      "20 Years later:\n",
      "\tTotal Paid: 49.82, Paid Interest: 12.82, Remaining Principal: 0.00\n",
      "\tYour Cash wealth:\t 772.26\n",
      "\tYour Property wealth:\t 66.83\n"
     ]
    }
   ],
   "source": [
    "family_expense = 0.6\n",
    "monthly_disposable_income = monthly_income - family_expense\n",
    "\n",
    "mortgage_years = 20\n",
    "down_payment = 10\n",
    "wealth_years = 20\n",
    "\n",
    "monthly_repayment, total_paid, interest_paid, remaining_principal = \\\n",
    "    calc_housing_loan(property_price, down_payment, mortgage_yearly_rate, mortgage_years, wealth_years)\n",
    "\n",
    "cash_wealth = calc_cash_wealth(current_wealth, down_payment, monthly_repayment, mortgage_years,\n",
    "                               monthly_disposable_income, yearly_return_on_investment, wealth_years)\n",
    "\n",
    "property_wealth = calc_property_wealth(property_price, property_yearly_return_rate, wealth_years)\n",
    "\n",
    "print(\"Mortgage Features:\")\n",
    "print(\"\\tMortgage: %s Years, Down Payment: %s, Monthly Repayment: %.4f, Total Payment: %.2f\" %\n",
    "      (mortgage_years, down_payment, monthly_repayment, down_payment + mortgage_years * 12 * monthly_repayment))\n",
    "print(\"%s Years later:\" % wealth_years)\n",
    "print(\"\\tTotal Paid: %.2f, Paid Interest: %.2f, Remaining Principal: %.2f\" %\n",
    "      (total_paid, interest_paid, remaining_principal))\n",
    "print(\"\\tYour Cash wealth:\\t\", round(cash_wealth, 2))\n",
    "print(\"\\tYour Property wealth:\\t\", round(property_wealth, 2))"
   ]
  },
  {
   "attachments": {},
   "cell_type": "markdown",
   "metadata": {},
   "source": [
    "卖了房子，然后租房，每月租金2500"
   ]
  },
  {
   "cell_type": "code",
   "execution_count": 9,
   "metadata": {},
   "outputs": [
    {
     "name": "stdout",
     "output_type": "stream",
     "text": [
      "Mortgage Features:\n",
      "\tMortgage: 1 Years, Down Payment: 10, Monthly Repayment: 2.3010, Total Payment: 37.61\n",
      "20 Years later:\n",
      "\tTotal Paid: 37.61, Paid Interest: 0.61, Remaining Principal: 0.00\n",
      "\tYour Cash wealth:\t 1218.24\n",
      "\tYour Property wealth:\t 0\n"
     ]
    }
   ],
   "source": [
    "current_wealth = 450\n",
    "monthly_income = 0\n",
    "family_expense = 0.85\n",
    "monthly_disposable_income = monthly_income - family_expense\n",
    "\n",
    "mortgage_years = 1\n",
    "down_payment = 10\n",
    "wealth_years = 20\n",
    "\n",
    "monthly_repayment, total_paid, interest_paid, remaining_principal = \\\n",
    "    calc_housing_loan(property_price, down_payment, mortgage_yearly_rate, mortgage_years, wealth_years)\n",
    "\n",
    "cash_wealth = calc_cash_wealth(current_wealth, down_payment, monthly_repayment, mortgage_years,\n",
    "                               monthly_disposable_income, yearly_return_on_investment, wealth_years)\n",
    "\n",
    "property_wealth = 0\n",
    "\n",
    "print(\"Mortgage Features:\")\n",
    "print(\"\\tMortgage: %s Years, Down Payment: %s, Monthly Repayment: %.4f, Total Payment: %.2f\" %\n",
    "      (mortgage_years, down_payment, monthly_repayment, down_payment + mortgage_years * 12 * monthly_repayment))\n",
    "print(\"%s Years later:\" % wealth_years)\n",
    "print(\"\\tTotal Paid: %.2f, Paid Interest: %.2f, Remaining Principal: %.2f\" %\n",
    "      (total_paid, interest_paid, remaining_principal))\n",
    "print(\"\\tYour Cash wealth:\\t\", round(cash_wealth, 2))\n",
    "print(\"\\tYour Property wealth:\\t\", round(property_wealth, 2))"
   ]
  },
  {
   "attachments": {},
   "cell_type": "markdown",
   "metadata": {},
   "source": [
    "卖了房子，换到乡间。乡间房屋一次性投入：购房25万和装修等费用25万"
   ]
  },
  {
   "cell_type": "code",
   "execution_count": 10,
   "metadata": {},
   "outputs": [
    {
     "name": "stdout",
     "output_type": "stream",
     "text": [
      "Mortgage Features:\n",
      "\tMortgage: 1 Years, Down Payment: 10, Monthly Repayment: 2.3010, Total Payment: 37.61\n",
      "20 Years later:\n",
      "\tTotal Paid: 37.61, Paid Interest: 0.61, Remaining Principal: 0.00\n",
      "\tYour Cash wealth:\t 1146.53\n",
      "\tYour Property wealth:\t 45.15\n"
     ]
    }
   ],
   "source": [
    "current_wealth = 400\n",
    "monthly_income = 0\n",
    "family_expense = 0.6\n",
    "monthly_disposable_income = monthly_income - family_expense\n",
    "\n",
    "mortgage_years = 1\n",
    "down_payment = 10\n",
    "wealth_years = 20\n",
    "\n",
    "monthly_repayment, total_paid, interest_paid, remaining_principal = \\\n",
    "    calc_housing_loan(property_price, down_payment, mortgage_yearly_rate, mortgage_years, wealth_years)\n",
    "\n",
    "cash_wealth = calc_cash_wealth(current_wealth, down_payment, monthly_repayment, mortgage_years,\n",
    "                               monthly_disposable_income, yearly_return_on_investment, wealth_years)\n",
    "\n",
    "property_wealth = calc_property_wealth(25, property_yearly_return_rate, wealth_years)\n",
    "\n",
    "print(\"Mortgage Features:\")\n",
    "print(\"\\tMortgage: %s Years, Down Payment: %s, Monthly Repayment: %.4f, Total Payment: %.2f\" %\n",
    "      (mortgage_years, down_payment, monthly_repayment, down_payment + mortgage_years * 12 * monthly_repayment))\n",
    "print(\"%s Years later:\" % wealth_years)\n",
    "print(\"\\tTotal Paid: %.2f, Paid Interest: %.2f, Remaining Principal: %.2f\" %\n",
    "      (total_paid, interest_paid, remaining_principal))\n",
    "print(\"\\tYour Cash wealth:\\t\", round(cash_wealth, 2))\n",
    "print(\"\\tYour Property wealth:\\t\", round(property_wealth, 2))"
   ]
  }
 ],
 "metadata": {
  "kernelspec": {
   "display_name": "finlab",
   "language": "python",
   "name": "python3"
  },
  "language_info": {
   "codemirror_mode": {
    "name": "ipython",
    "version": 3
   },
   "file_extension": ".py",
   "mimetype": "text/x-python",
   "name": "python",
   "nbconvert_exporter": "python",
   "pygments_lexer": "ipython3",
   "version": "3.9.12"
  },
  "orig_nbformat": 4,
  "vscode": {
   "interpreter": {
    "hash": "b9483049b3e9c670bddef98344a0490f9e244cf0a26cd571bf6775c67c05d5cd"
   }
  }
 },
 "nbformat": 4,
 "nbformat_minor": 2
}
