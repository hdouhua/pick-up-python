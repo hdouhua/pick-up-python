{
 "cells": [
  {
   "cell_type": "markdown",
   "metadata": {},
   "source": [
    "# 模块化\n",
    "\n",
    "使用这种方式引入模块\n",
    "\n",
    "```python\n",
    "from your_file import function_name, class_name\n",
    "```\n",
    "\n",
    "我们可能还需要在模块所在的文件夹新建一个 `__init__.py`，内容可以为空，也可以用来表述包对外暴露的模块接口。\n",
    "\n",
    "不过，事实上，这是 Python 2 的规范。在 Python 3 规范中，`__init__.py` 并不是必须的。\n",
    "\n",
    ">[PEP 420: Implicit Namespace Packages](https://docs.python.org/3/whatsnew/3.3.html#pep-420-implicit-namespace-packages)\n",
    ">[](https://docs.python.org/3/tutorial/modules.html)\n",
    "\n",
    "## 模块化示例1\n",
    "\n",
    "```\n",
    ".\n",
    "├── utils\n",
    "│   ├── utils.py\n",
    "│   └── class_utils.py\n",
    "├── src\n",
    "│   └── main_v2.py\n",
    "└── main_v1.py\n",
    "```\n",
    "\n",
    "[代码](./ModuleTest/simple)\n",
    "\n",
    "学会这种模块调用方式，已经足够应付一般项目了。\n"
   ]
  },
  {
   "cell_type": "markdown",
   "metadata": {},
   "source": [
    "## 模块化示例2\n",
    "\n",
    "大型项目的模块化——设置模块的路径为项目根目录\n",
    "\n",
    "鉴于相对位置是一种很不好的选择，我们推荐从**项目的根目录**开始追溯，这叫做**相对的绝对路径**。\n",
    "\n",
    "```\n",
    ".\n",
    "├── proto\n",
    "│   ├── mat.py\n",
    "├── utils\n",
    "│   └── mat_mul.py\n",
    "└── src\n",
    "    └── main.py\n",
    "```\n",
    "\n",
    "[代码](./ModuleTest/abspath)\n",
    "\n",
    "代码中 module 引入都采取相对于项目跟文件的相对路径，然后设置 module 路径为项目根目录\n",
    "\n",
    "两种方式设置 module 路径\n",
    "\n",
    "- 代码设置 `sys.path`\n",
    "\n",
    "   ```python\n",
    "   import sys\n",
    "   sys.path[0] = 'absolute_path_to_your_project'\n",
    "   ```\n",
    "\n",
    "- 设置环境变量 `PYTHONHOME`\n",
    "\n",
    "   ```shell\n",
    "   export PYTHONHOME=absolute_path_to_your_project\n",
    "   # for example\n",
    "   export $(cat .env); python path_to_py_file\n",
    "   ```"
   ]
  },
  {
   "cell_type": "markdown",
   "metadata": {},
   "source": [
    "## 神奇的 `if __name__ == '__main__'`\n",
    "\n",
    "import 在导入文件的时候，会自动把所有暴露在外面的代码全都执行一遍。\\__name\\__ 作为 Python 的魔术内置参数，本质上是模块对象的一个属性。当我们使用 import 语句时，\\__name\\__ 就会被赋值为该模块的名字。因此，如果你要把一个东西封装成模块，又想让它可以执行的话，你必须将要执行的代码放在 `if __name__ == '__main__'` 下面。\n"
   ]
  },
  {
   "cell_type": "markdown",
   "metadata": {},
   "source": [
    "## 总结\n",
    "\n",
    "- 通过绝对路径和相对路径，我们可以 import 模块；\n",
    "- 在大型工程中模块化非常重要，模块的索引要通过绝对路径来做，而绝对路径从程序的根目录开始；\n",
    "- 记着巧用 `if __name__ == '__main__'` 来避开 import 时执行。"
   ]
  },
  {
   "cell_type": "markdown",
   "metadata": {},
   "source": [
    "## 思考题\n",
    "\n",
    "`from module_name import *` 和 `import module_name` 有什么区别呢？\n",
    "\n",
    "答：\n",
    "\n",
    "- `from module_name import *` 会把 module 中所有的函数和类全拿过来，如果和其他函数名类名有冲突就会出问题；\n",
    "- `import model_name` 也会导入所有函数和类，但是调用的时候必须使用 model_name.func 的方法来调用，等于增加了一层 layer，有效避免冲突。\n"
   ]
  }
 ],
 "metadata": {
  "kernelspec": {
   "display_name": "Python 3.11.0 64-bit ('3.11.0')",
   "language": "python",
   "name": "python3"
  },
  "language_info": {
   "codemirror_mode": {
    "name": "ipython",
    "version": 3
   },
   "file_extension": ".py",
   "mimetype": "text/x-python",
   "name": "python",
   "nbconvert_exporter": "python",
   "pygments_lexer": "ipython3",
   "version": "3.11.0"
  },
  "orig_nbformat": 2,
  "vscode": {
   "interpreter": {
    "hash": "4c8e1a93ec7f4f4faa956075be3f6e3766439733425090680a521954a4033bd0"
   }
  }
 },
 "nbformat": 4,
 "nbformat_minor": 2
}
